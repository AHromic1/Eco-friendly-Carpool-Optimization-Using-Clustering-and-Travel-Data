{
  "nbformat": 4,
  "nbformat_minor": 0,
  "metadata": {
    "colab": {
      "provenance": [],
      "collapsed_sections": [
        "4ZNIjHHQTdv6",
        "_mRy7ObvTiV_"
      ]
    },
    "kernelspec": {
      "name": "python3",
      "display_name": "Python 3"
    },
    "language_info": {
      "name": "python"
    }
  },
  "cells": [
    {
      "cell_type": "code",
      "source": [
        "!pip install faker"
      ],
      "metadata": {
        "colab": {
          "base_uri": "https://localhost:8080/"
        },
        "id": "u_QAi9gr62Yp",
        "outputId": "d023938e-cfe4-4b43-f04d-4b911a9f717c"
      },
      "execution_count": null,
      "outputs": [
        {
          "output_type": "stream",
          "name": "stdout",
          "text": [
            "Collecting faker\n",
            "  Downloading faker-37.1.0-py3-none-any.whl.metadata (15 kB)\n",
            "Requirement already satisfied: tzdata in /usr/local/lib/python3.11/dist-packages (from faker) (2025.2)\n",
            "Downloading faker-37.1.0-py3-none-any.whl (1.9 MB)\n",
            "\u001b[2K   \u001b[90m━━━━━━━━━━━━━━━━━━━━━━━━━━━━━━━━━━━━━━━━\u001b[0m \u001b[32m1.9/1.9 MB\u001b[0m \u001b[31m20.2 MB/s\u001b[0m eta \u001b[36m0:00:00\u001b[0m\n",
            "\u001b[?25hInstalling collected packages: faker\n",
            "Successfully installed faker-37.1.0\n"
          ]
        }
      ]
    },
    {
      "cell_type": "code",
      "source": [
        "import pandas as pd\n",
        "import numpy as np\n",
        "import random\n",
        "from faker import Faker"
      ],
      "metadata": {
        "id": "8KnhQnoL6qse"
      },
      "execution_count": null,
      "outputs": []
    },
    {
      "cell_type": "code",
      "source": [
        "from google.colab import drive\n",
        "drive.mount('/content/drive')"
      ],
      "metadata": {
        "colab": {
          "base_uri": "https://localhost:8080/"
        },
        "id": "-DWHjFdWTXWw",
        "outputId": "3ba159de-7037-465a-a86b-3d1f590a9c1e"
      },
      "execution_count": null,
      "outputs": [
        {
          "output_type": "stream",
          "name": "stdout",
          "text": [
            "Mounted at /content/drive\n"
          ]
        }
      ]
    },
    {
      "cell_type": "markdown",
      "source": [
        "# Initial Data Generation"
      ],
      "metadata": {
        "id": "4ZNIjHHQTdv6"
      }
    },
    {
      "cell_type": "code",
      "execution_count": null,
      "metadata": {
        "colab": {
          "base_uri": "https://localhost:8080/"
        },
        "id": "nThLPLvn6Q2g",
        "outputId": "736a51e5-73ab-462d-da87-4bf9efa20d70"
      },
      "outputs": [
        {
          "output_type": "execute_result",
          "data": {
            "text/plain": [
              "(   person_id   first_name  last_name  \\\n",
              " 0          1        Paige     Dennis   \n",
              " 1          2       Rachel     Lucero   \n",
              " 2          3      Carolyn    Barrera   \n",
              " 3          4  Christopher  Daugherty   \n",
              " 4          5          Amy   Faulkner   \n",
              " \n",
              "                                         home_address  \\\n",
              " 0            133 Ashley Fields, Robinburgh, MO 37553   \n",
              " 1  335 Trujillo Spurs Suite 520, Reesechester, AS...   \n",
              " 2      87790 Diaz Lock Apt. 019, Smithport, ND 93682   \n",
              " 3     99909 Kim Loop Suite 588, Haneymouth, LA 13659   \n",
              " 4  31259 Jeffrey Meadows Apt. 999, Lake Glennton,...   \n",
              " \n",
              "                               admin_address   admin_city  has_car  car_type  \\\n",
              " 0      Université de Franche-Comté, Belfort      Belfort     True  electric   \n",
              " 1  Université de Franche-Comté, Montbéliard  Montbéliard     True    diesel   \n",
              " 2      Université de Franche-Comté, Belfort      Belfort     True  electric   \n",
              " 3  Université de Franche-Comté, Montbéliard  Montbéliard     True  electric   \n",
              " 4     Université de Franche-Comté, Besançon     Besançon     True  electric   \n",
              " \n",
              "    fiscal_hp  \n",
              " 0        9.0  \n",
              " 1        5.0  \n",
              " 2        8.0  \n",
              " 3        4.0  \n",
              " 4        8.0  ,\n",
              "    mission_id  person_id   start_city  end_city  start_date    end_date  \\\n",
              " 0           1         14     Besançon     Dijon  2024-04-26  2024-04-28   \n",
              " 1           2         30  Montbéliard   Belfort  2025-01-22  2025-01-22   \n",
              " 2           3          2  Montbéliard     Paris  2024-05-16  2024-05-18   \n",
              " 3           4         50      Belfort  Besançon  2024-08-16  2024-08-18   \n",
              " 4           5         36      Belfort  Besançon  2025-04-14  2025-04-14   \n",
              " \n",
              "         event  real_move travel_type vehicle_type  is_return_trip   km  \\\n",
              " 0  Conference      False         car       hybrid            True  206   \n",
              " 1  Conference      False         car       hybrid           False  295   \n",
              " 2     Meeting       True       train          TER           False  612   \n",
              " 3  Conference       True       plane          N/A           False  737   \n",
              " 4  Conference       True       plane          N/A            True  652   \n",
              " \n",
              "    parking_cost  hotel_cost  plane_cost  reimbursement  total_cost  \n",
              " 0          7.48       44.54        0.00         173.95      225.97  \n",
              " 1          1.16      109.02        0.00         173.10      283.28  \n",
              " 2          0.00       44.86        0.00         118.60      163.46  \n",
              " 3          0.00       88.49      123.81         117.28      329.58  \n",
              " 4          0.00       79.85      138.84          50.93      269.62  ,\n",
              "   travel_type vehicle_type  co2_per_km  energy_per_km\n",
              " 0         car     gasoline       0.192            NaN\n",
              " 1         car       diesel       0.171            NaN\n",
              " 2         car       hybrid       0.131            NaN\n",
              " 3         car     electric       0.030           0.15\n",
              " 4       train          TER       0.012            NaN\n",
              " 5       train          TGV       0.003            NaN\n",
              " 6       plane          N/A       0.255            NaN\n",
              " 7     carpool      average       0.085            NaN)"
            ]
          },
          "metadata": {},
          "execution_count": 10
        }
      ],
      "source": [
        "fake = Faker()\n",
        "random.seed(42)\n",
        "np.random.seed(42)\n",
        "\n",
        "NUM_PEOPLE = 50\n",
        "NUM_MISSIONS = 150\n",
        "\n",
        "admin_sites = {\n",
        "    \"Université de Franche-Comté, Besançon\": \"Besançon\",\n",
        "    \"Université de Franche-Comté, Montbéliard\": \"Montbéliard\",\n",
        "    \"Université de Franche-Comté, Belfort\": \"Belfort\"\n",
        "}\n",
        "\n",
        "cities = list(set([\n",
        "    \"Besançon\", \"Montbéliard\", \"Belfort\", \"Lyon\", \"Paris\",\n",
        "    \"Dijon\", \"Strasbourg\", \"Marseille\", \"Nice\"\n",
        "]))\n",
        "\n",
        "car_types = [\"electric\", \"diesel\", \"hybrid\", \"gasoline\"]\n",
        "events = [\"Conference\", \"Teaching\", \"Training\", \"Meeting\"]\n",
        "travel_types = [\"car\", \"train\", \"plane\", \"carpool\"]\n",
        "train_types = [\"TER\", \"TGV\"]\n",
        "\n",
        "\n",
        "def generate_person_data(num_people=50):\n",
        "    people = []\n",
        "    for i in range(1, num_people + 1):\n",
        "        admin_address = random.choice(list(admin_sites.keys()))\n",
        "        has_car = random.choice([True, False])\n",
        "        person = {\n",
        "            \"person_id\": i,\n",
        "            \"first_name\": fake.first_name(),\n",
        "            \"last_name\": fake.last_name(),\n",
        "            \"home_address\": fake.address().replace(\"\\n\", \", \"),\n",
        "            \"admin_address\": admin_address,\n",
        "            \"admin_city\": admin_sites[admin_address],\n",
        "            \"has_car\": has_car,\n",
        "            \"car_type\": random.choice(car_types) if has_car else None,\n",
        "            \"fiscal_hp\": random.randint(4, 10) if has_car else None\n",
        "        }\n",
        "        people.append(person)\n",
        "    return pd.DataFrame(people)\n",
        "\n",
        "\n",
        "def generate_mission_data(person_df, num_missions=150):\n",
        "    missions = []\n",
        "    for i in range(1, num_missions + 1):\n",
        "        person = person_df.sample(1).iloc[0]\n",
        "        start_city = person[\"admin_city\"]\n",
        "        end_city = random.choice([c for c in cities if c != start_city])\n",
        "        start_date = fake.date_between(start_date='-1y', end_date='today')\n",
        "        duration = random.choice([0, 1, 2])\n",
        "        end_date = start_date + pd.Timedelta(days=duration)\n",
        "        travel_type = random.choice(travel_types)\n",
        "        vehicle_type = (\n",
        "            random.choice(train_types) if travel_type == \"train\"\n",
        "            else random.choice(car_types) if travel_type == \"car\"\n",
        "            else \"average\" if travel_type == \"carpool\"\n",
        "            else \"N/A\"\n",
        "        )\n",
        "        is_return_trip = random.choice([True, False])\n",
        "        km = random.randint(50, 900)\n",
        "        parking_cost = round(random.uniform(0, 20), 2) if travel_type in [\"car\", \"carpool\"] else 0\n",
        "        hotel_cost = round(random.uniform(30, 120), 2)\n",
        "        plane_cost = round(random.uniform(80, 180), 2) if travel_type == \"plane\" else 0\n",
        "        reimbursement = round(random.uniform(50, 180), 2)\n",
        "        total_cost = parking_cost + hotel_cost + plane_cost + reimbursement\n",
        "\n",
        "        missions.append({\n",
        "            \"mission_id\": i,\n",
        "            \"person_id\": person[\"person_id\"],\n",
        "            \"start_city\": start_city,\n",
        "            \"end_city\": end_city,\n",
        "            \"start_date\": start_date,\n",
        "            \"end_date\": end_date,\n",
        "            \"event\": random.choice(events),\n",
        "            \"real_move\": random.choice([True, False]),\n",
        "            \"travel_type\": travel_type,\n",
        "            \"vehicle_type\": vehicle_type,\n",
        "            \"is_return_trip\": is_return_trip,\n",
        "            \"km\": km,\n",
        "            \"parking_cost\": parking_cost,\n",
        "            \"hotel_cost\": hotel_cost,\n",
        "            \"plane_cost\": plane_cost,\n",
        "            \"reimbursement\": reimbursement,\n",
        "            \"total_cost\": total_cost\n",
        "        })\n",
        "    return pd.DataFrame(missions)\n",
        "\n",
        "\n",
        "def generate_co2_data():\n",
        "    return pd.DataFrame([\n",
        "        {\"travel_type\": \"car\", \"vehicle_type\": \"gasoline\", \"co2_per_km\": 0.192, \"energy_per_km\": None},\n",
        "        {\"travel_type\": \"car\", \"vehicle_type\": \"diesel\", \"co2_per_km\": 0.171, \"energy_per_km\": None},\n",
        "        {\"travel_type\": \"car\", \"vehicle_type\": \"hybrid\", \"co2_per_km\": 0.131, \"energy_per_km\": None},\n",
        "        {\"travel_type\": \"car\", \"vehicle_type\": \"electric\", \"co2_per_km\": 0.030, \"energy_per_km\": 0.15},\n",
        "        {\"travel_type\": \"train\", \"vehicle_type\": \"TER\", \"co2_per_km\": 0.012, \"energy_per_km\": None},\n",
        "        {\"travel_type\": \"train\", \"vehicle_type\": \"TGV\", \"co2_per_km\": 0.003, \"energy_per_km\": None},\n",
        "        {\"travel_type\": \"plane\", \"vehicle_type\": \"N/A\", \"co2_per_km\": 0.255, \"energy_per_km\": None},\n",
        "        {\"travel_type\": \"carpool\", \"vehicle_type\": \"average\", \"co2_per_km\": 0.085, \"energy_per_km\": None},\n",
        "    ])\n",
        "\n",
        "person_df = generate_person_data(NUM_PEOPLE)\n",
        "mission_df = generate_mission_data(person_df, NUM_MISSIONS)\n",
        "co2_df = generate_co2_data()\n",
        "\n",
        "(person_df.head(), mission_df.head(), co2_df)\n"
      ]
    },
    {
      "cell_type": "code",
      "source": [
        "output_dir = \"/content/drive/MyDrive/Master IoT/Tutor project\"\n",
        "\n",
        "person_df.to_csv(f\"{output_dir}/person.csv\", index=False)\n",
        "mission_df.to_csv(f\"{output_dir}/mission.csv\", index=False)\n",
        "co2_df.to_csv(f\"{output_dir}/co2.csv\", index=False)\n",
        "\n",
        "print(\"CSV files saved to your Google Drive folder:\", output_dir)"
      ],
      "metadata": {
        "colab": {
          "base_uri": "https://localhost:8080/"
        },
        "id": "ec14yz6Z6wIo",
        "outputId": "9ad9d812-9b03-459a-e067-d4d259ccb485"
      },
      "execution_count": null,
      "outputs": [
        {
          "output_type": "stream",
          "name": "stdout",
          "text": [
            "CSV files saved to your Google Drive folder: /content/drive/MyDrive/Master IoT/Tutor project\n"
          ]
        }
      ]
    },
    {
      "cell_type": "markdown",
      "source": [
        "# Generating Data Including Airports, Real Addresses in France, Adding a New Column for the Nearest Airport, etc.\n"
      ],
      "metadata": {
        "id": "_mRy7ObvTiV_"
      }
    },
    {
      "cell_type": "code",
      "source": [
        "import pandas as pd\n",
        "import numpy as np\n",
        "import random\n",
        "from faker import Faker\n",
        "from datetime import timedelta\n",
        "\n",
        "fake = Faker('fr_FR')  #use addresses only in France\n",
        "random.seed(42)\n",
        "np.random.seed(42)\n",
        "\n",
        "NUM_PEOPLE = 60\n",
        "NUM_MISSIONS = 300\n",
        "\n",
        "admin_sites = {\n",
        "    \"Université de Franche-Comté, Besançon\": \"Besançon\",\n",
        "    \"Université de Franche-Comté, Montbéliard\": \"Montbéliard\",\n",
        "    \"Université de Franche-Comté, Belfort\": \"Belfort\"\n",
        "}\n",
        "\n",
        "cities = [\"Besançon\", \"Montbéliard\", \"Belfort\", \"Lyon\", \"Paris\", \"Strasbourg\", \"Marseille\", \"Nice\", \"Toulouse\", \"Nantes\", \"Lille\", \"Barcelona\"]\n",
        "airports = {\n",
        "    \"Besançon\": \"Dole\",\n",
        "    \"Montbéliard\": \"EuroAirport Basel\",\n",
        "    \"Belfort\": \"EuroAirport Basel\",\n",
        "    \"Lyon\": \"Lyon-Saint Exupéry\",\n",
        "    \"Paris\": \"Charles de Gaulle\",\n",
        "    \"Strasbourg\": \"Strasbourg Airport\",\n",
        "    \"Marseille\": \"Marseille Provence\",\n",
        "    \"Nice\": \"Nice Côte d'Azur\",\n",
        "    \"Toulouse\": \"Toulouse-Blagnac\",\n",
        "    \"Nantes\": \"Nantes Atlantique\",\n",
        "    \"Lille\": \"Lille Airport\",\n",
        "    \"Barcelona\": \"Barcelona-El Prat\"\n",
        "}\n",
        "\n",
        "car_types = [\"electric\", \"diesel\", \"hybrid\", \"gasoline\"]\n",
        "events = [\"Conference\", \"Teaching\", \"Training\", \"Meeting\"]\n",
        "travel_types = [\"car\", \"train\", \"plane\", \"carpool\"]\n",
        "\n",
        "def generate_person_data(num_people=NUM_PEOPLE):\n",
        "    areas = [\"Besançon\", \"Montbéliard\", \"Belfort\"]\n",
        "    people = []\n",
        "    for i in range(1, num_people + 1):\n",
        "        home_city = random.choice(areas)\n",
        "        person = {\n",
        "            \"person_id\": i,\n",
        "            \"first_name\": fake.first_name(),\n",
        "            \"last_name\": fake.last_name(),\n",
        "            \"home_address\": fake.street_address() + f\", {home_city}\",\n",
        "            \"admin_address\": random.choice(list(admin_sites.keys())),\n",
        "            \"has_car\": random.choice([True, False]),\n",
        "            \"car_type\": random.choice(car_types),\n",
        "            \"fiscal_hp\": random.randint(4, 10)\n",
        "        }\n",
        "        people.append(person)\n",
        "    return pd.DataFrame(people)\n",
        "\n",
        "def generate_mission_data(person_df, num_missions=NUM_MISSIONS):\n",
        "    missions = []\n",
        "    date_pool = [fake.date_between(start_date='-6M', end_date='today') for _ in range(30)]\n",
        "    for i in range(1, num_missions + 1):\n",
        "        person = person_df.sample(1).iloc[0]\n",
        "        start_city = random.choice(list(admin_sites.values()))\n",
        "        end_city = random.choice([c for c in cities if c != start_city])\n",
        "        start_date = random.choice(date_pool) + timedelta(days=random.choice([-1, 0, 1]))\n",
        "        duration = random.choice([0, 1, 2])\n",
        "        end_date = start_date + timedelta(days=duration)\n",
        "        travel_type = random.choice(travel_types)\n",
        "        is_return = random.choice([True, False])\n",
        "        km = random.randint(100, 800)\n",
        "        parking = round(random.uniform(0, 25), 2) if travel_type in [\"car\", \"carpool\"] else 0\n",
        "        hotel = round(random.uniform(40, 150), 2)\n",
        "        plane_cost = round(random.uniform(90, 200), 2) if travel_type == \"plane\" else 0\n",
        "        reimbursement = round(random.uniform(50, 180), 2)\n",
        "        total_cost = parking + hotel + plane_cost + reimbursement\n",
        "\n",
        "        missions.append({\n",
        "            \"mission_id\": i,\n",
        "            \"person_id\": person[\"person_id\"],\n",
        "            \"start_city\": start_city,\n",
        "            \"end_city\": end_city,\n",
        "            \"start_date\": start_date,\n",
        "            \"end_date\": end_date,\n",
        "            \"event\": random.choice(events),\n",
        "            \"real_move\": True,\n",
        "            \"travel_type\": travel_type,\n",
        "            \"vehicle_type\": person[\"car_type\"] if travel_type == \"car\" else \"average\" if travel_type == \"carpool\" else \"N/A\",\n",
        "            \"is_return_trip\": is_return,\n",
        "            \"km\": km,\n",
        "            \"parking_cost\": parking,\n",
        "            \"hotel_cost\": hotel,\n",
        "            \"plane_cost\": plane_cost,\n",
        "            \"reimbursement\": reimbursement,\n",
        "            \"total_cost\": total_cost,\n",
        "            \"nearest_airport\": airports[start_city] if travel_type == \"plane\" else \"N/A\"\n",
        "        })\n",
        "    return pd.DataFrame(missions)\n",
        "\n",
        "person_df = generate_person_data()\n",
        "mission_df = generate_mission_data(person_df)\n",
        "\n",
        "output_path = \"/content/drive/MyDrive/Master IoT/Tutor project\"\n",
        "person_df.to_csv(f\"{output_path}/person_extended.csv\", index=False)\n",
        "mission_df.to_csv(f\"{output_path}/mission_extended.csv\", index=False)\n",
        "print(\"Files saved!\")\n"
      ],
      "metadata": {
        "colab": {
          "base_uri": "https://localhost:8080/"
        },
        "id": "fbsSBnsNTh_g",
        "outputId": "9da85962-9064-436e-e2f0-7fe899bccbcc"
      },
      "execution_count": null,
      "outputs": [
        {
          "output_type": "stream",
          "name": "stdout",
          "text": [
            "Files saved!\n"
          ]
        }
      ]
    },
    {
      "cell_type": "markdown",
      "source": [
        "# Generating data where addresses are bounded to France. Also, we put some models of cars and generate data first for perosns.csv then for missions.csv."
      ],
      "metadata": {
        "id": "iNERhCuxln4f"
      }
    },
    {
      "cell_type": "code",
      "source": [
        "import pandas as pd\n",
        "import random\n",
        "import numpy as np\n",
        "from faker import Faker\n",
        "from datetime import datetime, timedelta\n",
        "\n",
        "fake = Faker(\"fr_FR\")\n",
        "admin_cities = [\"Montbéliard\", \"Besançon\", \"Belfort\"]\n",
        "airports = {\n",
        "    \"Montbéliard\": \"Basel-Mulhouse\",\n",
        "    \"Besançon\": \"Dole-Jura\",\n",
        "    \"Belfort\": \"Basel-Mulhouse\"\n",
        "}\n",
        "\n",
        "car_models_data = [\n",
        "    (\"Audi A4\", \"gasoline\", 5),\n",
        "    (\"Peugeot 208\", \"diesel\", 5),\n",
        "    (\"Renault Clio\", \"diesel\", 5),\n",
        "    (\"Tesla Model 3\", \"electric\", 5),\n",
        "    (\"Toyota Prius\", \"hybrid\", 5),\n",
        "    (\"Fiat Panda\", \"gasoline\", 4)\n",
        "]\n",
        "fiscal_hp_values = list(range(4, 11))\n",
        "\n",
        "people = []\n",
        "for pid in range(1, 301):\n",
        "    admin_city = random.choice(admin_cities)\n",
        "    has_car = random.random() < 0.7\n",
        "\n",
        "    if has_car:\n",
        "        model, fuel, capacity = random.choice(car_models_data)\n",
        "        car_type = fuel\n",
        "        car_model = model\n",
        "        car_capacity = capacity\n",
        "        fiscal_hp = random.choice(fiscal_hp_values)\n",
        "    else:\n",
        "        car_type = car_model = car_capacity = fiscal_hp = \"\"\n",
        "\n",
        "    person = {\n",
        "        \"person_id\": pid,\n",
        "        \"first_name\": fake.first_name(),\n",
        "        \"last_name\": fake.last_name(),\n",
        "        \"home_address\": fake.address().replace(\"\\n\", \", \"),\n",
        "        \"admin_address\": f\"Université de Franche-Comté, {admin_city}\",\n",
        "        \"admin_city\": admin_city,\n",
        "        \"has_car\": has_car,\n",
        "        \"car_type\": car_type,\n",
        "        \"car_model\": car_model,\n",
        "        \"car_capacity\": car_capacity,\n",
        "        \"fiscal_hp\": fiscal_hp\n",
        "    }\n",
        "    people.append(person)\n",
        "\n",
        "person_df = pd.DataFrame(people)\n",
        "\n",
        "missions = []\n",
        "base_date = datetime(2025, 5, 1)\n",
        "end_cities = [\"Paris\", \"Lyon\", \"Marseille\", \"Nice\", \"Strasbourg\", \"Toulouse\", \"Dijon\"]\n",
        "\n",
        "for idx, row in person_df.iterrows():\n",
        "    start_date = base_date + timedelta(days=random.randint(0, 10))\n",
        "    duration = random.randint(1, 3)\n",
        "    end_date = start_date + timedelta(days=duration)\n",
        "\n",
        "    start_city = row[\"admin_city\"]\n",
        "    end_city = random.choice([c for c in end_cities if c != start_city])\n",
        "    travel_type = random.choice([\"car\", \"plane\"])\n",
        "    nearest_airport = airports[start_city] if travel_type == \"plane\" else \"\"\n",
        "\n",
        "    km = random.randint(100, 800)\n",
        "    hotel_cost = duration * 100\n",
        "    parking_cost = 10 * duration if travel_type == \"car\" else 0\n",
        "    plane_cost = 120 if travel_type == \"plane\" else 0\n",
        "    reimbursement = random.randint(50, 150)\n",
        "    total_cost = hotel_cost + parking_cost + plane_cost + reimbursement\n",
        "\n",
        "    mission = {\n",
        "        \"mission_id\": idx + 1,\n",
        "        \"person_id\": row[\"person_id\"],\n",
        "        \"start_city\": start_city,\n",
        "        \"end_city\": end_city,\n",
        "        \"start_date\": start_date.strftime(\"%Y-%m-%d\"),\n",
        "        \"end_date\": end_date.strftime(\"%Y-%m-%d\"),\n",
        "        \"event\": random.choice([\"Meeting\", \"Conference\", \"Training\"]),\n",
        "        \"real_move\": True,\n",
        "        \"travel_type\": travel_type,\n",
        "        \"vehicle_type\": row[\"car_model\"] if travel_type == \"car\" and row[\"has_car\"] else \"\",\n",
        "        \"is_return_trip\": random.choice([True, False]),\n",
        "        \"km\": km,\n",
        "        \"parking_cost\": parking_cost,\n",
        "        \"hotel_cost\": hotel_cost,\n",
        "        \"plane_cost\": plane_cost,\n",
        "        \"reimbursement\": reimbursement,\n",
        "        \"total_cost\": total_cost,\n",
        "        \"nearest_airport\": nearest_airport\n",
        "    }\n",
        "    missions.append(mission)\n",
        "\n",
        "mission_df = pd.DataFrame(missions)\n",
        "\n",
        "person_df.to_csv(\"/content/drive/MyDrive/Master IoT/Tutor project/personsnew.csv\", index=False)\n",
        "mission_df.to_csv(\"/content/drive/MyDrive/Master IoT/Tutor project/missionsnew.csv\", index=False)"
      ],
      "metadata": {
        "id": "qu6YAIf7lmYt"
      },
      "execution_count": null,
      "outputs": []
    },
    {
      "cell_type": "code",
      "source": [
        "import pandas as pd\n",
        "import numpy as np\n",
        "from datetime import datetime, timedelta\n",
        "import random\n",
        "\n",
        "missions = pd.read_csv(\"/content/drive/MyDrive/Master IoT/Tutor project/missionsnew.csv\")\n",
        "\n",
        "missions[\"start_date\"] = pd.to_datetime(missions[\"start_date\"])\n",
        "missions[\"end_date\"] = pd.to_datetime(missions[\"end_date\"])\n",
        "\n",
        "def random_time(date):\n",
        "    hour = random.randint(6, 20)\n",
        "    minute = random.choice([0, 15, 30, 45])\n",
        "    return date + timedelta(hours=hour, minutes=minute)\n",
        "\n",
        "missions[\"start_date\"] = missions[\"start_date\"].apply(random_time)\n",
        "missions[\"end_date\"] = missions[\"end_date\"].apply(random_time)\n",
        "\n",
        "missions.to_csv(\"/content/drive/MyDrive/Master IoT/Tutor project/allmissions.csv\", index=False)"
      ],
      "metadata": {
        "id": "74hEHPuXTGT9"
      },
      "execution_count": null,
      "outputs": []
    },
    {
      "cell_type": "code",
      "source": [
        "person_df = pd.read_csv(\"/content/drive/MyDrive/Master IoT/Tutor project/personsnew.csv\")\n",
        "co2_df = pd.read_csv(\"/content/drive/MyDrive/Master IoT/Tutor project/co2.csv\")\n",
        "\n",
        "model_co2 = {\n",
        "    \"Audi A4\": 0.185,\n",
        "    \"Peugeot 208\": 0.155,\n",
        "    \"Renault Clio\": 0.160,\n",
        "    \"Tesla Model 3\": 0.030,\n",
        "    \"Toyota Prius\": 0.100,\n",
        "    \"Fiat Panda\": 0.170\n",
        "}\n",
        "\n",
        "model_rows = [\n",
        "    {\"travel_type\": \"car\", \"vehicle_type\": model, \"co2_per_km\": co2, \"energy_per_km\": np.nan}\n",
        "    for model, co2 in model_co2.items()\n",
        "]\n",
        "model_df = pd.DataFrame(model_rows)\n",
        "\n",
        "co2_extended = pd.concat([co2_df, model_df], ignore_index=True)\n",
        "co2_extended.to_csv(\"/content/drive/MyDrive/Master IoT/Tutor project/allco2d.csv\", index=False)"
      ],
      "metadata": {
        "id": "ZG5OeLaBTpX1"
      },
      "execution_count": null,
      "outputs": []
    },
    {
      "cell_type": "code",
      "source": [
        "import pandas as pd\n",
        "\n",
        "missions_df = pd.read_csv(\"/content/drive/MyDrive/Master IoT/Tutor project/allmissions.csv\")\n",
        "persons_df = pd.read_csv(\"/content/drive/MyDrive/Master IoT/Tutor project/personsnew.csv\")\n",
        "co2_df = pd.read_csv(\"/content/drive/MyDrive/Master IoT/Tutor project/allco2d.csv\")\n",
        "print(\"Available columns in persons_df:\", persons_df.columns)\n",
        "\n",
        "if \"vehicle_type\" in missions_df.columns:\n",
        "    missions_df = missions_df.drop(columns=[\"vehicle_type\"])\n",
        "\n",
        "#merging with person data to get car_type\n",
        "merged_df = missions_df.merge(persons_df[[\"person_id\", \"car_type\"]], on=\"person_id\", how=\"left\")\n",
        "\n",
        "merged_df[\"car_type\"] = merged_df[\"car_type\"].fillna(\"N/A\")\n",
        "\n",
        "merged_df = merged_df.rename(columns={\"car_type\": \"vehicle_type\"})\n",
        "\n",
        "#merging with CO₂ values\n",
        "merged_with_co2 = merged_df.merge(co2_df, on=[\"travel_type\", \"vehicle_type\"], how=\"left\")\n",
        "\n",
        "merged_with_co2.to_csv(\"/content/drive/MyDrive/Master IoT/Tutor project/alldata.csv\", index=False)\n",
        "print(\"CO₂-enriched mission data saved as: missions_co2_merged.csv\")"
      ],
      "metadata": {
        "id": "lfXm9u-FUbQF"
      },
      "execution_count": null,
      "outputs": []
    },
    {
      "cell_type": "code",
      "source": [
        "import pandas as pd\n",
        "\n",
        "data = [\n",
        "    [\"Audi A4\", \"gasoline\", 0.185, None],\n",
        "    [\"Peugeot 208\", \"diesel\", 0.155, None],\n",
        "    [\"Renault Clio\", \"diesel\", 0.160, None],\n",
        "    [\"Tesla Model 3\", \"electric\", 0.030, 0.15],\n",
        "    [\"Toyota Prius\", \"hybrid\", 0.100, None],\n",
        "    [\"Fiat Panda\", \"gasoline\", 0.170, None],\n",
        "    [\"average_carpool\", \"average\", 0.085, None],\n",
        "    [\"TER\", \"train\", 0.012, None],\n",
        "    [\"TGV\", \"train\", 0.003, None],\n",
        "    [\"plane\", \"plane\", 0.255, None],\n",
        "]\n",
        "\n",
        "co2_df = pd.DataFrame(data, columns=[\"car_model\", \"car_type\", \"co2_per_km\", \"energy_per_km\"])\n",
        "\n",
        "co2_df.to_csv(\"/content/drive/MyDrive/Master IoT/Tutor project/co22.csv\", index=False)\n"
      ],
      "metadata": {
        "id": "xXVgwxs32ARi"
      },
      "execution_count": null,
      "outputs": []
    }
  ]
}